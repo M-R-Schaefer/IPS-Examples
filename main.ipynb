{
 "cells": [
  {
   "cell_type": "code",
   "execution_count": 1,
   "metadata": {},
   "outputs": [
    {
     "name": "stdout",
     "output_type": "stream",
     "text": [
      "2023-05-10 12:48:21,270 (DEBUG): Welcome to IPS - the Interatomic Potential Suite!\n"
     ]
    }
   ],
   "source": [
    "import ipsuite as ips"
   ]
  },
  {
   "cell_type": "code",
   "execution_count": 2,
   "metadata": {},
   "outputs": [
    {
     "name": "stderr",
     "output_type": "stream",
     "text": [
      "Running DVC command: 'stage add --name SmilesToAtoms --force ...'\n",
      "Running DVC command: 'stage add --name Packmol --force ...'\n",
      "Running DVC command: 'stage add --name CP2KSinglePoint --force ...'\n",
      "Running DVC command: 'stage add --name ASEGeoOpt --force ...'\n",
      "Running DVC command: 'stage add --name ASEMD --force ...'\n",
      "Running DVC command: 'stage add --name ASEMD_thermostat --force ...'\n",
      "Running DVC command: 'stage add --name ConfigurationSelection --force ...'\n",
      "Running DVC command: 'stage add --name ConfigurationSelection_1 --force ...'\n",
      "Running DVC command: 'stage add --name ConfigurationSelection_2 --force ...'\n",
      "Running DVC command: 'stage add --name MLModel --force ...'\n",
      "Running DVC command: 'stage add --name Prediction --force ...'\n",
      "Running DVC command: 'stage add --name PredictionMetrics --force ...'\n",
      "Running DVC command: 'stage add --name ASEMD_1 --force ...'\n",
      "Running DVC command: 'stage add --name ASEMD_1_thermostat --force ...'\n"
     ]
    }
   ],
   "source": [
    "mapping = ips.geometry.BarycenterMapping(data=None)\n",
    "thermostat = ips.calculators.LangevinThermostat(\n",
    "    temperature=300, friction=0.01, time_step=0.5\n",
    ")\n",
    "\n",
    "with ips.Project(automatic_node_names=True) as project:\n",
    "    mol = ips.configuration_generation.SmilesToAtoms(smiles=\"O\")\n",
    "\n",
    "    packmol = ips.configuration_generation.Packmol(\n",
    "        data=[mol.atoms], count=[10], density=997\n",
    "    )\n",
    "\n",
    "    cp2k = ips.calculators.CP2KSinglePoint(\n",
    "        data=packmol,\n",
    "        cp2k_files=[\"GTH_BASIS_SETS\", \"GTH_POTENTIALS\", \"dftd3.dat\"],\n",
    "        cp2k_shell=\"cp2k_shell.psmp\",\n",
    "    )\n",
    "\n",
    "    geopt = ips.calculators.ASEGeoOpt(\n",
    "        model=cp2k,\n",
    "        data=packmol.atoms,\n",
    "        optimizer=\"BFGS\",\n",
    "        run_kwargs={\"fmax\": 0.1},\n",
    "    )\n",
    "\n",
    "    md = ips.calculators.ASEMD(\n",
    "        model=cp2k,\n",
    "        thermostat=thermostat,\n",
    "        data=geopt.atoms,\n",
    "        data_id=-1,\n",
    "        sampling_rate=1,\n",
    "        dump_rate=1,\n",
    "        steps=5000,\n",
    "    )\n",
    "\n",
    "    test_data = ips.configuration_selection.RandomSelection(\n",
    "        data=md, n_configurations=250\n",
    "    )\n",
    "    val_data = ips.configuration_selection.RandomSelection(\n",
    "        data=md,\n",
    "        n_configurations=50,\n",
    "        exclude_configurations=test_data.selected_configurations,\n",
    "    )\n",
    "    train_data = ips.configuration_selection.RandomSelection(\n",
    "        data=md,\n",
    "        n_configurations=250,\n",
    "        exclude_configurations=[\n",
    "            test_data.selected_configurations,\n",
    "            val_data.selected_configurations,\n",
    "        ],\n",
    "    )\n",
    "\n",
    "    model = ips.models.MACE(data=train_data, test_data=val_data)\n",
    "\n",
    "    predictions = ips.analysis.Prediction(data=val_data, model=model)\n",
    "    analysis = ips.analysis.PredictionMetrics(data=predictions)\n",
    "\n",
    "    ml_md = ips.calculators.ASEMD(\n",
    "        model=model,\n",
    "        thermostat=thermostat,\n",
    "        data=geopt.atoms,\n",
    "        data_id=-1,\n",
    "        sampling_rate=1,\n",
    "        dump_rate=1,\n",
    "        steps=5000,\n",
    "    )\n",
    "\n",
    "project.run(repro=False)"
   ]
  },
  {
   "attachments": {},
   "cell_type": "markdown",
   "metadata": {},
   "source": [
    "# Analyse the results"
   ]
  },
  {
   "cell_type": "code",
   "execution_count": 3,
   "metadata": {},
   "outputs": [],
   "source": [
    "analysis.load()"
   ]
  },
  {
   "cell_type": "code",
   "execution_count": 10,
   "metadata": {},
   "outputs": [
    {
     "data": {
      "text/html": [
       "<div>\n",
       "<style scoped>\n",
       "    .dataframe tbody tr th:only-of-type {\n",
       "        vertical-align: middle;\n",
       "    }\n",
       "\n",
       "    .dataframe tbody tr th {\n",
       "        vertical-align: top;\n",
       "    }\n",
       "\n",
       "    .dataframe thead th {\n",
       "        text-align: right;\n",
       "    }\n",
       "</style>\n",
       "<table border=\"1\" class=\"dataframe\">\n",
       "  <thead>\n",
       "    <tr style=\"text-align: right;\">\n",
       "      <th></th>\n",
       "      <th>Unnamed: 0</th>\n",
       "      <th>true</th>\n",
       "      <th>prediction</th>\n",
       "    </tr>\n",
       "  </thead>\n",
       "  <tbody>\n",
       "    <tr>\n",
       "      <th>0</th>\n",
       "      <td>0</td>\n",
       "      <td>-4488.799096</td>\n",
       "      <td>-4488.786458</td>\n",
       "    </tr>\n",
       "    <tr>\n",
       "      <th>1</th>\n",
       "      <td>1</td>\n",
       "      <td>-4488.619281</td>\n",
       "      <td>-4488.604806</td>\n",
       "    </tr>\n",
       "    <tr>\n",
       "      <th>2</th>\n",
       "      <td>2</td>\n",
       "      <td>-4488.932046</td>\n",
       "      <td>-4488.926759</td>\n",
       "    </tr>\n",
       "    <tr>\n",
       "      <th>3</th>\n",
       "      <td>3</td>\n",
       "      <td>-4489.150568</td>\n",
       "      <td>-4489.148408</td>\n",
       "    </tr>\n",
       "    <tr>\n",
       "      <th>4</th>\n",
       "      <td>4</td>\n",
       "      <td>-4488.972237</td>\n",
       "      <td>-4488.960681</td>\n",
       "    </tr>\n",
       "  </tbody>\n",
       "</table>\n",
       "</div>"
      ],
      "text/plain": [
       "   Unnamed: 0         true   prediction\n",
       "0           0 -4488.799096 -4488.786458\n",
       "1           1 -4488.619281 -4488.604806\n",
       "2           2 -4488.932046 -4488.926759\n",
       "3           3 -4489.150568 -4489.148408\n",
       "4           4 -4488.972237 -4488.960681"
      ]
     },
     "execution_count": 10,
     "metadata": {},
     "output_type": "execute_result"
    }
   ],
   "source": [
    "analysis.energy_df.iloc[:5]"
   ]
  },
  {
   "cell_type": "markdown",
   "metadata": {},
   "source": [
    "### DFT DATA"
   ]
  },
  {
   "cell_type": "code",
   "execution_count": 13,
   "metadata": {},
   "outputs": [
    {
     "data": {
      "text/plain": [
       "[Atoms(symbols='OH2OH2OH2OH2OH2OH2OH2OH2OH2OH2', pbc=True, cell=[6.6946734740471925, 6.6946734740471925, 6.6946734740471925], momenta=..., calculator=SinglePointCalculator(...)),\n",
       " Atoms(symbols='OH2OH2OH2OH2OH2OH2OH2OH2OH2OH2', pbc=True, cell=[6.6946734740471925, 6.6946734740471925, 6.6946734740471925], momenta=..., calculator=SinglePointCalculator(...)),\n",
       " Atoms(symbols='OH2OH2OH2OH2OH2OH2OH2OH2OH2OH2', pbc=True, cell=[6.6946734740471925, 6.6946734740471925, 6.6946734740471925], momenta=..., calculator=SinglePointCalculator(...)),\n",
       " Atoms(symbols='OH2OH2OH2OH2OH2OH2OH2OH2OH2OH2', pbc=True, cell=[6.6946734740471925, 6.6946734740471925, 6.6946734740471925], momenta=..., calculator=SinglePointCalculator(...)),\n",
       " Atoms(symbols='OH2OH2OH2OH2OH2OH2OH2OH2OH2OH2', pbc=True, cell=[6.6946734740471925, 6.6946734740471925, 6.6946734740471925], momenta=..., calculator=SinglePointCalculator(...))]"
      ]
     },
     "execution_count": 13,
     "metadata": {},
     "output_type": "execute_result"
    }
   ],
   "source": [
    "md.load()\n",
    "md.atoms[:5]"
   ]
  },
  {
   "attachments": {},
   "cell_type": "markdown",
   "metadata": {},
   "source": [
    "## Simulation Data"
   ]
  },
  {
   "cell_type": "code",
   "execution_count": 14,
   "metadata": {},
   "outputs": [
    {
     "data": {
      "text/plain": [
       "[Atoms(symbols='OH2OH2OH2OH2OH2OH2OH2OH2OH2OH2', pbc=True, cell=[6.6946734740471925, 6.6946734740471925, 6.6946734740471925], momenta=..., calculator=SinglePointCalculator(...)),\n",
       " Atoms(symbols='OH2OH2OH2OH2OH2OH2OH2OH2OH2OH2', pbc=True, cell=[6.6946734740471925, 6.6946734740471925, 6.6946734740471925], momenta=..., calculator=SinglePointCalculator(...)),\n",
       " Atoms(symbols='OH2OH2OH2OH2OH2OH2OH2OH2OH2OH2', pbc=True, cell=[6.6946734740471925, 6.6946734740471925, 6.6946734740471925], momenta=..., calculator=SinglePointCalculator(...)),\n",
       " Atoms(symbols='OH2OH2OH2OH2OH2OH2OH2OH2OH2OH2', pbc=True, cell=[6.6946734740471925, 6.6946734740471925, 6.6946734740471925], momenta=..., calculator=SinglePointCalculator(...)),\n",
       " Atoms(symbols='OH2OH2OH2OH2OH2OH2OH2OH2OH2OH2', pbc=True, cell=[6.6946734740471925, 6.6946734740471925, 6.6946734740471925], momenta=..., calculator=SinglePointCalculator(...))]"
      ]
     },
     "execution_count": 14,
     "metadata": {},
     "output_type": "execute_result"
    }
   ],
   "source": [
    "ml_md.load()\n",
    "ml_md.atoms[:5]"
   ]
  },
  {
   "attachments": {},
   "cell_type": "markdown",
   "metadata": {},
   "source": [
    "## Compute RDF"
   ]
  },
  {
   "cell_type": "code",
   "execution_count": 24,
   "metadata": {},
   "outputs": [],
   "source": [
    "import ase\n",
    "import ase.geometry.analysis\n",
    "import matplotlib.pyplot as plt\n",
    "import numpy as np"
   ]
  },
  {
   "cell_type": "code",
   "execution_count": 19,
   "metadata": {},
   "outputs": [],
   "source": [
    "analysis = ase.geometry.analysis.Analysis(ml_md.atoms)\n",
    "data = analysis.get_rdf(rmax=3.0, nbins=100, elements=[\"H\", \"O\"])"
   ]
  },
  {
   "cell_type": "code",
   "execution_count": 27,
   "metadata": {},
   "outputs": [],
   "source": [
    "analysis = ase.geometry.analysis.Analysis(md.atoms)\n",
    "dft_data = analysis.get_rdf(rmax=3.0, nbins=100, elements=[\"H\", \"O\"])"
   ]
  },
  {
   "cell_type": "code",
   "execution_count": 35,
   "metadata": {},
   "outputs": [
    {
     "data": {
      "text/plain": [
       "<matplotlib.legend.Legend at 0x7fa786be87c0>"
      ]
     },
     "execution_count": 35,
     "metadata": {},
     "output_type": "execute_result"
    },
    {
     "data": {
      "image/png": "[encoded data removed]",
      "text/plain": [
       "<Figure size 640x480 with 1 Axes>"
      ]
     },
     "metadata": {},
     "output_type": "display_data"
    }
   ],
   "source": [
    "fig, ax = plt.subplots()\n",
    "ax.plot(np.linspace(0, 3.0, 100), np.mean(data, axis=0), label=\"ML PES\")\n",
    "ax.plot(np.linspace(0, 3.0, 100), np.mean(dft_data, axis=0), label=\"DFT\")\n",
    "ax.hlines(xmin=0, xmax=3, y=1, ls=\"--\")\n",
    "ax.set_xlabel(r\"Distance r / $\\AA$\")\n",
    "ax.set_ylabel(\"RDF g(r)\")\n",
    "ax.legend()"
   ]
  },
  {
   "cell_type": "code",
   "execution_count": null,
   "metadata": {},
   "outputs": [],
   "source": []
  }
 ],
 "metadata": {
  "kernelspec": {
   "display_name": "ipsuite",
   "language": "python",
   "name": "python3"
  },
  "language_info": {
   "codemirror_mode": {
    "name": "ipython",
    "version": 3
   },
   "file_extension": ".py",
   "mimetype": "text/x-python",
   "name": "python",
   "nbconvert_exporter": "python",
   "pygments_lexer": "ipython3",
   "version": "3.10.11"
  },
  "orig_nbformat": 4,
  "vscode": {
   "interpreter": {
    "hash": "0b56f66012b023714c40f2382361243d24cc7c2d1707d28001be66bf6c226584"
   }
  }
 },
 "nbformat": 4,
 "nbformat_minor": 2
}

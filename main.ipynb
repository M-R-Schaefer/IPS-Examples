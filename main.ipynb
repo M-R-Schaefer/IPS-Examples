{
 "cells": [
  {
   "cell_type": "code",
   "execution_count": 1,
   "metadata": {},
   "outputs": [
    {
     "name": "stderr",
     "output_type": "stream",
     "text": [
      "2023-04-06 16:09:21.167474: I tensorflow/core/platform/cpu_feature_guard.cc:193] This TensorFlow binary is optimized with oneAPI Deep Neural Network Library (oneDNN) to use the following CPU instructions in performance-critical operations:  AVX2 AVX_VNNI FMA\n",
      "To enable them in other operations, rebuild TensorFlow with the appropriate compiler flags.\n",
      "2023-04-06 16:09:21.239776: I tensorflow/core/util/port.cc:104] oneDNN custom operations are on. You may see slightly different numerical results due to floating-point round-off errors from different computation orders. To turn them off, set the environment variable `TF_ENABLE_ONEDNN_OPTS=0`.\n",
      "2023-04-06 16:09:21.854638: W tensorflow/compiler/xla/stream_executor/platform/default/dso_loader.cc:64] Could not load dynamic library 'libnvinfer.so.7'; dlerror: libnvinfer.so.7: cannot open shared object file: No such file or directory; LD_LIBRARY_PATH: /data/fzills/tools/cuda/cuda-11.8/lib64:\n",
      "2023-04-06 16:09:21.854685: W tensorflow/compiler/xla/stream_executor/platform/default/dso_loader.cc:64] Could not load dynamic library 'libnvinfer_plugin.so.7'; dlerror: libnvinfer_plugin.so.7: cannot open shared object file: No such file or directory; LD_LIBRARY_PATH: /data/fzills/tools/cuda/cuda-11.8/lib64:\n",
      "2023-04-06 16:09:21.854688: W tensorflow/compiler/tf2tensorrt/utils/py_utils.cc:38] TF-TRT Warning: Cannot dlopen some TensorRT libraries. If you would like to use Nvidia GPU with TensorRT, please make sure the missing libraries mentioned above are installed properly.\n"
     ]
    },
    {
     "name": "stdout",
     "output_type": "stream",
     "text": [
      "2023-04-06 16:09:23,011 (DEBUG): Welcome to IPS - the Interatomic Potential Suite!\n"
     ]
    }
   ],
   "source": [
    "import ipsuite as ips"
   ]
  },
  {
   "cell_type": "code",
   "execution_count": 2,
   "metadata": {},
   "outputs": [
    {
     "name": "stderr",
     "output_type": "stream",
     "text": [
      "Running DVC command: 'stage add --name AddData --force ...'\n",
      "Running DVC command: 'stage add --name test_data --force ...'\n",
      "Running DVC command: 'stage add --name train_data --force ...'\n",
      "Running DVC command: 'stage add --name val_data --force ...'\n",
      "Running DVC command: 'stage add --name MLModel --force ...'\n",
      "Running DVC command: 'stage add --name PredictWithModel --force ...'\n",
      "Running DVC command: 'stage add --name AnalysePrediction --force ...'\n",
      "Running DVC command: 'stage add --name InterIntraForces --force ...'\n",
      "Running DVC command: 'stage add --name EtOH --force ...'\n",
      "Running DVC command: 'stage add --name MeOH --force ...'\n",
      "Running DVC command: 'stage add --name Packmol --force ...'\n",
      "Running DVC command: 'stage add --name ASEGeoOpt --force ...'\n",
      "Running DVC command: 'stage add --name ASEMD --force ...'\n",
      "Running DVC command: 'stage add --name BoxScaleAnalysis --force ...'\n",
      "Running DVC command: 'stage add --name BoxScaleAnalysis_mapping --force ...'\n",
      "Could not create .gitignore entry in /ssd/fzills/IPS/IPS-Examples/nodes/BoxScaleAnalysis_mapping/.gitignore. DVC will attempt to create .gitignore entry again when the stage is run.\n",
      "Running DVC command: 'stage add --name stability_confs --force ...'\n",
      "Running DVC command: 'stage add --name MDStabilityAnalysis --force ...'\n",
      "Running DVC command: 'stage add --name MDStabilityAnalysis_checks_0 --force ...'\n",
      "Could not create .gitignore entry in /ssd/fzills/IPS/IPS-Examples/nodes/MDStabilityAnalysis_checks_0/.gitignore. DVC will attempt to create .gitignore entry again when the stage is run.\n",
      "Running DVC command: 'stage add --name MDStabilityAnalysis_checks_1 --force ...'\n",
      "Could not create .gitignore entry in /ssd/fzills/IPS/IPS-Examples/nodes/MDStabilityAnalysis_checks_1/.gitignore. DVC will attempt to create .gitignore entry again when the stage is run.\n"
     ]
    }
   ],
   "source": [
    "mapping = ips.geometry.BarycenterMapping(data=None)\n",
    "\n",
    "checks = [\n",
    "    ips.analysis.ConnectivityCheck(),\n",
    "    ips.analysis.NaNCheck()\n",
    "]\n",
    "\n",
    "with ips.Project() as project:\n",
    "    data = ips.AddData(file=\"etoh_meoh_dimer.traj\")\n",
    "\n",
    "    test_data = ips.configuration_selection.RandomSelection(data=data, n_configurations=1000, name=\"test_data\")\n",
    "    train_data = ips.configuration_selection.RandomSelection(\n",
    "        data=data, n_configurations=500, name=\"train_data\",\n",
    "        exclude_configurations=test_data.selected_configurations\n",
    "    )\n",
    "    val_data = ips.configuration_selection.RandomSelection(\n",
    "        data=data, n_configurations=100, name=\"val_data\",\n",
    "        exclude_configurations=[test_data.selected_configurations, train_data.selected_configurations]\n",
    "    )\n",
    "    \n",
    "    model = ips.models.MACE(data=train_data, test_data=val_data, max_num_epochs=250)\n",
    "\n",
    "    predictions = ips.analysis.PredictWithModel(model=model, data=test_data)\n",
    "    analysis = ips.analysis.AnalysePrediction(data=predictions)\n",
    "    inter_intra_forces = ips.analysis.InterIntraForces(data=predictions)\n",
    "\n",
    "    etoh = ips.configuration_generation.SmilesToAtoms(smiles=\"CCO\", name=\"EtOH\")\n",
    "    meoh = ips.configuration_generation.SmilesToAtoms(smiles=\"CO\", name=\"MeOH\")\n",
    "    packmol = ips.configuration_generation.Packmol(data=[etoh.atoms, meoh.atoms], count=[10, 10], box=12)\n",
    "    geopt = ips.calculators.ASEGeoOpt(calculator=model.calc, data=packmol.atoms, optimizer=\"FIRE\")\n",
    "    md = ips.calculators.ASEMD(data=geopt.atoms, model=model, friction=0.01, sampling_rate=1, steps=5000, temperature=250, time_step=0.5)\n",
    "\n",
    "    ips.analysis.BoxScaleAnalysis(data=md, model=model, mapping=mapping)\n",
    "\n",
    "    # MD Stability\n",
    "    stability_confs = ips.configuration_selection.RandomSelection(data=md, n_configurations=20, name=\"stability_confs\")\n",
    "    ips.analysis.MDStabilityAnalysis(\n",
    "        data=stability_confs, model=model, checks=checks, max_steps=1000, initial_temperature=200, bins=10,\n",
    "    )\n",
    "\n",
    "project.run(repro=False)"
   ]
  },
  {
   "attachments": {},
   "cell_type": "markdown",
   "metadata": {},
   "source": [
    "[![](https://mermaid.ink/img/pako:eNp9VFtr2zAU_itFz02JnWRx8jDYcNYOalrIoLB5GE06qbXakpGVdqH0v_cosTOmy_xgrO8iHX061ithigNZk12jXlhNtbn4lpfyYngkksmPknzabq5B3XWmJD__ZdMTW-QeM7MM5zk11OPmlpO0OfRwr4ELZoSSnmqBqs_qz5bRBk5q0XuiDwFR1dKuE_LREy9RvDF3Nx6RIfFVGtD40vSL0gz8pVYoKvKtob9EI8whWlIyDQsrVgN76qup70j-70h8hw2-uC3ws_FJm30BgX0mNvl7yp5aFbDZwIfzeBCmjkxuEwej6qoFfHHRgr7C0H5f8Wfmq23k_biviim5CwRm4zfQm4qHuiWxweMKQob51Ob9TJuIezL5eFQ5pgFehOFk6XTziGcRfBXG06nTruFll-M0c7eVBmLlNkwEP9cfwdMIvojg0fldwyy2g3mkosWAzyN45rbdgM_cBotUmsUqzSJHdibcM0tWoyONEK4jnZ4d5JLgD9JSwfGWfbUy7OUaWijJGj857Oi-wXu1lG8o3XfYw7DhwihN1kbv4ZLQvVHbg2Tj-KTJBX3UtCXrHW16RDsqvyv1dwzHOYrT7X685N_eAY3KuT0?type=png)](https://mermaid.live/edit#pako:eNp9VFtr2zAU_itFz02JnWRx8jDYcNYOalrIoLB5GE06qbXakpGVdqH0v_cosTOmy_xgrO8iHX061ithigNZk12jXlhNtbn4lpfyYngkksmPknzabq5B3XWmJD__ZdMTW-QeM7MM5zk11OPmlpO0OfRwr4ELZoSSnmqBqs_qz5bRBk5q0XuiDwFR1dKuE_LREy9RvDF3Nx6RIfFVGtD40vSL0gz8pVYoKvKtob9EI8whWlIyDQsrVgN76qup70j-70h8hw2-uC3ws_FJm30BgX0mNvl7yp5aFbDZwIfzeBCmjkxuEwej6qoFfHHRgr7C0H5f8Wfmq23k_biviim5CwRm4zfQm4qHuiWxweMKQob51Ob9TJuIezL5eFQ5pgFehOFk6XTziGcRfBXG06nTruFll-M0c7eVBmLlNkwEP9cfwdMIvojg0fldwyy2g3mkosWAzyN45rbdgM_cBotUmsUqzSJHdibcM0tWoyONEK4jnZ4d5JLgD9JSwfGWfbUy7OUaWijJGj857Oi-wXu1lG8o3XfYw7DhwihN1kbv4ZLQvVHbg2Tj-KTJBX3UtCXrHW16RDsqvyv1dwzHOYrT7X685N_eAY3KuT0)"
   ]
  },
  {
   "cell_type": "markdown",
   "metadata": {},
   "source": []
  }
 ],
 "metadata": {
  "kernelspec": {
   "display_name": "ipsuite",
   "language": "python",
   "name": "python3"
  },
  "language_info": {
   "codemirror_mode": {
    "name": "ipython",
    "version": 3
   },
   "file_extension": ".py",
   "mimetype": "text/x-python",
   "name": "python",
   "nbconvert_exporter": "python",
   "pygments_lexer": "ipython3",
   "version": "3.10.9"
  },
  "orig_nbformat": 4,
  "vscode": {
   "interpreter": {
    "hash": "0b56f66012b023714c40f2382361243d24cc7c2d1707d28001be66bf6c226584"
   }
  }
 },
 "nbformat": 4,
 "nbformat_minor": 2
}

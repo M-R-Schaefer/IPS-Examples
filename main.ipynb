{
 "cells": [
  {
   "cell_type": "code",
   "execution_count": 1,
   "metadata": {},
   "outputs": [
    {
     "name": "stdout",
     "output_type": "stream",
     "text": [
      "2023-05-08 10:02:03,127 (DEBUG): Welcome to IPS - the Interatomic Potential Suite!\n"
     ]
    }
   ],
   "source": [
    "import ipsuite as ips"
   ]
  },
  {
   "cell_type": "code",
   "execution_count": 3,
   "metadata": {},
   "outputs": [
    {
     "name": "stderr",
     "output_type": "stream",
     "text": [
      "Running DVC command: 'stage add --name SmilesToAtoms --force ...'\n",
      "Running DVC command: 'stage add --name Packmol --force ...'\n",
      "Running DVC command: 'stage add --name CP2KSinglePoint --force ...'\n",
      "Running DVC command: 'stage add --name ASEGeoOpt --force ...'\n",
      "Running DVC command: 'stage add --name ASEMD --force ...'\n",
      "Running DVC command: 'stage add --name ASEMD_thermostat --force ...'\n",
      "Could not create .gitignore entry in /ssd/fzills/tests/ipsuite/IPS-Example00/nodes/ASEMD_thermostat/.gitignore. DVC will attempt to create .gitignore entry again when the stage is run.\n"
     ]
    }
   ],
   "source": [
    "mapping = ips.geometry.BarycenterMapping(data=None)\n",
    "thermostat = ips.calculators.LagevinThermostat(temperature=300, friction=0.01, time_step=0.5)\n",
    "\n",
    "with ips.Project(automatic_node_names=True, remove_existing_graph=True) as project:\n",
    "    mol = ips.configuration_generation.SmilesToAtoms(smiles=\"O\")\n",
    "\n",
    "    packmol = ips.configuration_generation.Packmol(\n",
    "        data=[mol.atoms], count=[10], density=997\n",
    "    )\n",
    "\n",
    "    cp2k = ips.calculators.CP2KSinglePoint(\n",
    "        data=packmol, cp2k_files=[\"GTH_BASIS_SETS\", \"GTH_POTENTIALS\", \"dftd3.dat\"]\n",
    "    )\n",
    "\n",
    "    geopt = ips.calculators.ASEGeoOpt(\n",
    "        model=cp2k,\n",
    "        data=packmol.atoms,\n",
    "        optimizer=\"BFGS\",\n",
    "        run_kwargs={\"fmax\": 0.1},\n",
    "    )\n",
    "\n",
    "    md = ips.calculators.ASEMD(\n",
    "        model=cp2k,\n",
    "        thermostat=thermostat,\n",
    "        data=geopt.atoms,\n",
    "        data_id=-1,\n",
    "        sampling_rate=1,\n",
    "        dump_rate=1,\n",
    "        steps=250,\n",
    "    )  \n",
    "\n",
    "project.run(repro=False)\n"
   ]
  },
  {
   "cell_type": "code",
   "execution_count": null,
   "metadata": {},
   "outputs": [],
   "source": []
  },
  {
   "cell_type": "markdown",
   "metadata": {},
   "source": []
  }
 ],
 "metadata": {
  "kernelspec": {
   "display_name": "ipsuite",
   "language": "python",
   "name": "python3"
  },
  "language_info": {
   "codemirror_mode": {
    "name": "ipython",
    "version": 3
   },
   "file_extension": ".py",
   "mimetype": "text/x-python",
   "name": "python",
   "nbconvert_exporter": "python",
   "pygments_lexer": "ipython3",
   "version": "3.10.9"
  },
  "orig_nbformat": 4,
  "vscode": {
   "interpreter": {
    "hash": "0b56f66012b023714c40f2382361243d24cc7c2d1707d28001be66bf6c226584"
   }
  }
 },
 "nbformat": 4,
 "nbformat_minor": 2
}

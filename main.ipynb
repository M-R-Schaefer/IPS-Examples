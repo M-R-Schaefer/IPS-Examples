{
 "cells": [
  {
   "cell_type": "code",
   "execution_count": 1,
   "metadata": {},
   "outputs": [
    {
     "name": "stdout",
     "output_type": "stream",
     "text": [
      "2023-05-10 11:17:22,375 (DEBUG): Welcome to IPS - the Interatomic Potential Suite!\n"
     ]
    }
   ],
   "source": [
    "import ipsuite as ips"
   ]
  },
  {
   "cell_type": "code",
   "execution_count": 2,
   "metadata": {},
   "outputs": [
    {
     "name": "stderr",
     "output_type": "stream",
     "text": [
      "Running DVC command: 'stage add --name SmilesToAtoms --force ...'\n",
      "Running DVC command: 'stage add --name Packmol --force ...'\n",
      "Running DVC command: 'stage add --name CP2KSinglePoint --force ...'\n",
      "Running DVC command: 'stage add --name ASEGeoOpt --force ...'\n",
      "Running DVC command: 'stage add --name ASEMD --force ...'\n",
      "Running DVC command: 'stage add --name ASEMD_thermostat --force ...'\n",
      "Running DVC command: 'stage add --name ConfigurationSelection --force ...'\n",
      "Running DVC command: 'stage add --name ConfigurationSelection_1 --force ...'\n",
      "Running DVC command: 'stage add --name ConfigurationSelection_2 --force ...'\n",
      "Running DVC command: 'stage add --name MLModel --force ...'\n",
      "Running DVC command: 'stage add --name Prediction --force ...'\n",
      "Running DVC command: 'stage add --name PredictionMetrics --force ...'\n",
      "Running DVC command: 'stage add --name ASEMD_1 --force ...'\n",
      "Running DVC command: 'stage add --name ASEMD_1_thermostat --force ...'\n"
     ]
    }
   ],
   "source": [
    "mapping = ips.geometry.BarycenterMapping(data=None)\n",
    "thermostat = ips.calculators.LangevinThermostat(\n",
    "    temperature=300, friction=0.01, time_step=0.5\n",
    ")\n",
    "\n",
    "with ips.Project(automatic_node_names=True) as project:\n",
    "    mol = ips.configuration_generation.SmilesToAtoms(smiles=\"O\")\n",
    "\n",
    "    packmol = ips.configuration_generation.Packmol(\n",
    "        data=[mol.atoms], count=[10], density=997\n",
    "    )\n",
    "\n",
    "    cp2k = ips.calculators.CP2KSinglePoint(\n",
    "        data=packmol,\n",
    "        cp2k_files=[\"GTH_BASIS_SETS\", \"GTH_POTENTIALS\", \"dftd3.dat\"],\n",
    "        cp2k_shell=\"cp2k_shell.psmp\",\n",
    "    )\n",
    "\n",
    "    geopt = ips.calculators.ASEGeoOpt(\n",
    "        model=cp2k,\n",
    "        data=packmol.atoms,\n",
    "        optimizer=\"BFGS\",\n",
    "        run_kwargs={\"fmax\": 0.1},\n",
    "    )\n",
    "\n",
    "    md = ips.calculators.ASEMD(\n",
    "        model=cp2k,\n",
    "        thermostat=thermostat,\n",
    "        data=geopt.atoms,\n",
    "        data_id=-1,\n",
    "        sampling_rate=1,\n",
    "        dump_rate=1,\n",
    "        steps=5000,\n",
    "    )\n",
    "\n",
    "    test_data = ips.configuration_selection.RandomSelection(\n",
    "        data=md, n_configurations=250\n",
    "    )\n",
    "    val_data = ips.configuration_selection.RandomSelection(\n",
    "        data=md,\n",
    "        n_configurations=50,\n",
    "        exclude_configurations=test_data.selected_configurations,\n",
    "    )\n",
    "    train_data = ips.configuration_selection.RandomSelection(\n",
    "        data=md,\n",
    "        n_configurations=250,\n",
    "        exclude_configurations=[\n",
    "            test_data.selected_configurations,\n",
    "            val_data.selected_configurations,\n",
    "        ],\n",
    "    )\n",
    "\n",
    "    model = ips.models.MACE(data=train_data, test_data=val_data)\n",
    "\n",
    "    predictions = ips.analysis.Prediction(data=val_data, model=model)\n",
    "    analysis = ips.analysis.PredictionMetrics(data=predictions)\n",
    "\n",
    "    ml_md = ips.calculators.ASEMD(\n",
    "        model=model,\n",
    "        thermostat=thermostat,\n",
    "        data=geopt.atoms,\n",
    "        data_id=-1,\n",
    "        sampling_rate=1,\n",
    "        dump_rate=1,\n",
    "        steps=5000,\n",
    "    )\n",
    "\n",
    "project.run(repro=False)"
   ]
  },
  {
   "cell_type": "markdown",
   "metadata": {},
   "source": []
  }
 ],
 "metadata": {
  "kernelspec": {
   "display_name": "ipsuite",
   "language": "python",
   "name": "python3"
  },
  "language_info": {
   "codemirror_mode": {
    "name": "ipython",
    "version": 3
   },
   "file_extension": ".py",
   "mimetype": "text/x-python",
   "name": "python",
   "nbconvert_exporter": "python",
   "pygments_lexer": "ipython3",
   "version": "3.10.11"
  },
  "orig_nbformat": 4,
  "vscode": {
   "interpreter": {
    "hash": "0b56f66012b023714c40f2382361243d24cc7c2d1707d28001be66bf6c226584"
   }
  }
 },
 "nbformat": 4,
 "nbformat_minor": 2
}

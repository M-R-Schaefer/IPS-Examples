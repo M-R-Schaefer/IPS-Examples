{
 "cells": [
  {
   "attachments": {},
   "cell_type": "markdown",
   "metadata": {},
   "source": [
    "# Configuration Selection\n",
    "\n",
    "IPSuite provides different methods to select configurations.\n",
    "In the following we will showcase most of them including pure random selection methods as well as Minium Membership Kernel (MMK) selection."
   ]
  },
  {
   "cell_type": "code",
   "execution_count": 1,
   "metadata": {},
   "outputs": [
    {
     "name": "stdout",
     "output_type": "stream",
     "text": [
      "2023-05-16 10:43:53,417 (DEBUG): Welcome to IPS - the Interatomic Potential Suite!\n"
     ]
    }
   ],
   "source": [
    "import ipsuite as ips"
   ]
  },
  {
   "cell_type": "code",
   "execution_count": null,
   "metadata": {},
   "outputs": [],
   "source": []
  },
  {
   "cell_type": "code",
   "execution_count": 2,
   "metadata": {},
   "outputs": [
    {
     "name": "stderr",
     "output_type": "stream",
     "text": [
      "2023-05-16 10:43:53.496776: I tensorflow/core/platform/cpu_feature_guard.cc:193] This TensorFlow binary is optimized with oneAPI Deep Neural Network Library (oneDNN) to use the following CPU instructions in performance-critical operations:  AVX2 AVX_VNNI FMA\n",
      "To enable them in other operations, rebuild TensorFlow with the appropriate compiler flags.\n",
      "2023-05-16 10:43:53.565732: I tensorflow/core/util/port.cc:104] oneDNN custom operations are on. You may see slightly different numerical results due to floating-point round-off errors from different computation orders. To turn them off, set the environment variable `TF_ENABLE_ONEDNN_OPTS=0`.\n",
      "2023-05-16 10:43:54.214765: W tensorflow/compiler/xla/stream_executor/platform/default/dso_loader.cc:64] Could not load dynamic library 'libnvinfer.so.7'; dlerror: libnvinfer.so.7: cannot open shared object file: No such file or directory; LD_LIBRARY_PATH: /data/fzills/tools/orca_5_0_4:/data/fzills/tools/cuda/cuda-11.8/lib64:\n",
      "2023-05-16 10:43:54.214815: W tensorflow/compiler/xla/stream_executor/platform/default/dso_loader.cc:64] Could not load dynamic library 'libnvinfer_plugin.so.7'; dlerror: libnvinfer_plugin.so.7: cannot open shared object file: No such file or directory; LD_LIBRARY_PATH: /data/fzills/tools/orca_5_0_4:/data/fzills/tools/cuda/cuda-11.8/lib64:\n",
      "2023-05-16 10:43:54.214818: W tensorflow/compiler/tf2tensorrt/utils/py_utils.cc:38] TF-TRT Warning: Cannot dlopen some TensorRT libraries. If you would like to use Nvidia GPU with TensorRT, please make sure the missing libraries mentioned above are installed properly.\n",
      "Running DVC command: 'stage add --name AddData --force ...'\n",
      "Running DVC command: 'stage add --name ConfigurationSelection --force ...'\n",
      "Running DVC command: 'stage add --name ConfigurationSelection_1 --force ...'\n",
      "Running DVC command: 'stage add --name ConfigurationSelection_1_kernel --force ...'\n",
      "Could not create .gitignore entry in /ssd/fzills/IPS/IPS-Examples/nodes/ConfigurationSelection_1_kernel/.gitignore. DVC will attempt to create .gitignore entry again when the stage is run.\n"
     ]
    }
   ],
   "source": [
    "kernel = ips.configuration_comparison.MMKernel()\n",
    "\n",
    "with ips.Project(automatic_node_names=True, remove_existing_graph=True) as project:\n",
    "    data = ips.AddData(file=\"KCl1650K.extxyz\", lines_to_read=1000)\n",
    "    random_selection = ips.configuration_selection.RandomSelection(\n",
    "        data=data, n_configurations=10\n",
    "    )\n",
    "    mmk_selection = ips.configuration_selection.KernelSelection(kernel=kernel, data=data, initial_configurations=None, n_configurations=10)\n",
    "    uniform_energetic_selection = ips.configuration_selection.UniformEnergeticSelection(\n",
    "        data=data, n_configurations=10\n",
    "    )\n",
    "project.run(repro=False)"
   ]
  },
  {
   "cell_type": "code",
   "execution_count": 3,
   "metadata": {},
   "outputs": [
    {
     "data": {
      "text/plain": [
       "{'AddData': [0, 83, 193, 266, 352, 457, 603, 665, 916, 999]}"
      ]
     },
     "execution_count": 3,
     "metadata": {},
     "output_type": "execute_result"
    }
   ],
   "source": [
    "mmk_selection.load()\n",
    "mmk_selection.selected_configurations"
   ]
  },
  {
   "cell_type": "code",
   "execution_count": 4,
   "metadata": {},
   "outputs": [
    {
     "data": {
      "text/plain": [
       "{'AddData': [99, 155, 363, 438, 555, 620, 681, 688, 768, 990]}"
      ]
     },
     "execution_count": 4,
     "metadata": {},
     "output_type": "execute_result"
    }
   ],
   "source": [
    "random_selection.load()\n",
    "random_selection.selected_configurations"
   ]
  },
  {
   "attachments": {},
   "cell_type": "markdown",
   "metadata": {},
   "source": [
    "We can also plot the MMK for all configurations as an animation over selected points."
   ]
  },
  {
   "cell_type": "code",
   "execution_count": 5,
   "metadata": {},
   "outputs": [],
   "source": [
    "mmk_selection.plot_kernel()"
   ]
  },
  {
   "cell_type": "code",
   "execution_count": 7,
   "metadata": {},
   "outputs": [
    {
     "data": {
      "application/vnd.jupyter.widget-view+json": {
       "model_id": "a3d4091f21ab427892a546758a22a1d0",
       "version_major": 2,
       "version_minor": 0
      },
      "text/plain": [
       "HTML(value='<img src=\"kernel_selection.gif\" width=\"750\" align=\"center\">')"
      ]
     },
     "metadata": {},
     "output_type": "display_data"
    }
   ],
   "source": [
    "import ipywidgets as widgets\n",
    "display(widgets.HTML(f'<img src=\"kernel_selection.gif\" width=\"750\" align=\"center\">'))"
   ]
  },
  {
   "cell_type": "markdown",
   "metadata": {},
   "source": []
  }
 ],
 "metadata": {
  "kernelspec": {
   "display_name": "ipsuite",
   "language": "python",
   "name": "python3"
  },
  "language_info": {
   "codemirror_mode": {
    "name": "ipython",
    "version": 3
   },
   "file_extension": ".py",
   "mimetype": "text/x-python",
   "name": "python",
   "nbconvert_exporter": "python",
   "pygments_lexer": "ipython3",
   "version": "3.10.9"
  },
  "orig_nbformat": 4,
  "vscode": {
   "interpreter": {
    "hash": "0b56f66012b023714c40f2382361243d24cc7c2d1707d28001be66bf6c226584"
   }
  }
 },
 "nbformat": 4,
 "nbformat_minor": 2
}

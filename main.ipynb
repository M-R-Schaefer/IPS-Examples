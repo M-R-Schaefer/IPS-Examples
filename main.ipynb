{
 "cells": [
  {
   "attachments": {},
   "cell_type": "markdown",
   "metadata": {},
   "source": [
    "The IPSuite package is designed to build computational workflows which are executed at a later time.\n",
    "Whilst this becomes extremly helpful, it is always a good start to learn the package in `eager` or direkt mode.\n",
    "Some Nodes might produce outputs files, so please be aware that your workspace might be affected."
   ]
  },
  {
   "cell_type": "code",
   "execution_count": 1,
   "metadata": {},
   "outputs": [
    {
     "name": "stderr",
     "output_type": "stream",
     "text": [
      "2023-04-05 19:53:04.706495: I tensorflow/core/platform/cpu_feature_guard.cc:193] This TensorFlow binary is optimized with oneAPI Deep Neural Network Library (oneDNN) to use the following CPU instructions in performance-critical operations:  AVX2 AVX_VNNI FMA\n",
      "To enable them in other operations, rebuild TensorFlow with the appropriate compiler flags.\n",
      "2023-04-05 19:53:04.777587: I tensorflow/core/util/port.cc:104] oneDNN custom operations are on. You may see slightly different numerical results due to floating-point round-off errors from different computation orders. To turn them off, set the environment variable `TF_ENABLE_ONEDNN_OPTS=0`.\n",
      "2023-04-05 19:53:05.391516: W tensorflow/compiler/xla/stream_executor/platform/default/dso_loader.cc:64] Could not load dynamic library 'libnvinfer.so.7'; dlerror: libnvinfer.so.7: cannot open shared object file: No such file or directory\n",
      "2023-04-05 19:53:05.391554: W tensorflow/compiler/xla/stream_executor/platform/default/dso_loader.cc:64] Could not load dynamic library 'libnvinfer_plugin.so.7'; dlerror: libnvinfer_plugin.so.7: cannot open shared object file: No such file or directory\n",
      "2023-04-05 19:53:05.391557: W tensorflow/compiler/tf2tensorrt/utils/py_utils.cc:38] TF-TRT Warning: Cannot dlopen some TensorRT libraries. If you would like to use Nvidia GPU with TensorRT, please make sure the missing libraries mentioned above are installed properly.\n"
     ]
    },
    {
     "name": "stdout",
     "output_type": "stream",
     "text": [
      "2023-04-05 19:53:06,538 (DEBUG): Welcome to IPS - the Interatomic Potential Suite!\n"
     ]
    }
   ],
   "source": [
    "import ipsuite as ips"
   ]
  },
  {
   "cell_type": "code",
   "execution_count": 2,
   "metadata": {},
   "outputs": [
    {
     "name": "stderr",
     "output_type": "stream",
     "text": [
      "Running DVC command: 'stage add --name AddData --force ...'\n",
      "Running DVC command: 'stage add --name test_data --force ...'\n",
      "Running DVC command: 'stage add --name train_data --force ...'\n",
      "Running DVC command: 'stage add --name val_data --force ...'\n",
      "Running DVC command: 'stage add --name MLModel --force ...'\n",
      "Running DVC command: 'stage add --name PredictWithModel --force ...'\n",
      "Running DVC command: 'stage add --name AnalysePrediction --force ...'\n",
      "Running DVC command: 'stage add --name InterIntraForces --force ...'\n"
     ]
    }
   ],
   "source": [
    "with ips.Project() as project:\n",
    "    data = ips.AddData(file=\"etoh_meoh_dimer.traj\")\n",
    "    test_data = ips.configuration_selection.RandomSelection(\n",
    "        data=data, n_configurations=1000, name=\"test_data\"\n",
    "    )\n",
    "    train_data = ips.configuration_selection.RandomSelection(\n",
    "        data=data,\n",
    "        n_configurations=500,\n",
    "        exclude_configurations=test_data.selected_configurations,\n",
    "        name=\"train_data\"\n",
    "    )\n",
    "    val_data = ips.configuration_selection.RandomSelection(\n",
    "        data=data,\n",
    "        n_configurations=100,\n",
    "        exclude_configurations=[test_data.selected_configurations, train_data.selected_configurations],\n",
    "        name=\"val_data\"\n",
    "    )\n",
    "    model = ips.models.MACE(data=train_data, test_data=val_data, max_num_epochs=250) \n",
    "    prediction = ips.analysis.PredictWithModel(model=model, data=test_data)\n",
    "    analyse = ips.analysis.AnalysePrediction(data=prediction)\n",
    "    inter_intra = ips.analysis.InterIntraForces(data=prediction)\n",
    "project.run()\n"
   ]
  },
  {
   "cell_type": "markdown",
   "metadata": {},
   "source": []
  }
 ],
 "metadata": {
  "kernelspec": {
   "display_name": "ipsuite",
   "language": "python",
   "name": "python3"
  },
  "language_info": {
   "codemirror_mode": {
    "name": "ipython",
    "version": 3
   },
   "file_extension": ".py",
   "mimetype": "text/x-python",
   "name": "python",
   "nbconvert_exporter": "python",
   "pygments_lexer": "ipython3",
   "version": "3.10.9"
  },
  "orig_nbformat": 4,
  "vscode": {
   "interpreter": {
    "hash": "0b56f66012b023714c40f2382361243d24cc7c2d1707d28001be66bf6c226584"
   }
  }
 },
 "nbformat": 4,
 "nbformat_minor": 2
}
